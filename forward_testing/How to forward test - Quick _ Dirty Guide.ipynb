{
 "cells": [
  {
   "cell_type": "code",
   "execution_count": null,
   "metadata": {
    "pycharm": {
     "name": "#%%\n"
    }
   },
   "outputs": [],
   "source": [
    "# you need following packages\n",
    "import numpy as np\n",
    "import pandas as pd\n",
    "import sklearn\n",
    "\n",
    "import pandas_datareader as pdr\n",
    "import datetime\n",
    "import pandas_datareader.data as web\n",
    "import os\n",
    "import statistics as stat\n",
    "import math\n",
    "import pickle\n",
    "\n",
    "# some might be useless depending on operations but nothing outside of this is required"
   ]
  },
  {
   "cell_type": "code",
   "execution_count": null,
   "metadata": {
    "pycharm": {
     "name": "#%%\n"
    }
   },
   "outputs": [],
   "source": [
    "# importing pickle file\n",
    "ticker_name = # you should enter in format 'SBIN', 'HINDUNILVR' etc\n",
    "file_path = # you should enter in format 'C:/Users/athar/Collab with Parth/linear_regression ADANIPORTS.pickle' etc\n",
    "\n",
    "pickle_in = open(file_path,'rb')\n",
    "clf = pickle.load(pickle_in)\n",
    "\n",
    "# this is input at each time stamp (at the end of time)\n",
    "df = ['Open', 'High','Low','Close','Volume']\n",
    "up_prob = clf.predict(df) # denoted as alpha in pdf\n",
    "down_prob = 1-up_prob\n",
    "\n",
    "# threshold is the 60% percentile of up_prob of train data set. I'll upload threholds for each stock seperately\n",
    "# till then, these are thresholds for DRREDDY, HINDUNILVR, ADANIPORTS, AXISBANK\n",
    "threshold_dict = {'DRREDDY': 0.41878420750591105, 'HINDUNILVR': 0.43559159507797407,\n",
    "                  'ADANIPORTS': 0.6452825406318907,'AXISBANK': 0.4541107217201816}\n",
    "threshold = # you should enter at float at least upto 6 decimal places"
   ]
  },
  {
   "cell_type": "code",
   "execution_count": null,
   "metadata": {
    "pycharm": {
     "name": "#%%\n"
    }
   },
   "outputs": [],
   "source": [
    "# buy sell signals\n",
    "# at time step i,\n",
    "if df['Close'][i-1] > df['Close'][i] and up_prob[i] > threshold:\n",
    "    buy[i] = True\n",
    "\n",
    "if df['Close'][i-1] < df['Close'][i] and down_prob[i] > 1-threshold:\n",
    "    sell[i] = True"
   ]
  }
 ],
 "metadata": {
  "kernelspec": {
   "display_name": "Python 3",
   "language": "python",
   "name": "python3"
  },
  "language_info": {
   "codemirror_mode": {
    "name": "ipython",
    "version": 3
   },
   "file_extension": ".py",
   "mimetype": "text/x-python",
   "name": "python",
   "nbconvert_exporter": "python",
   "pygments_lexer": "ipython3",
   "version": "3.8.5"
  }
 },
 "nbformat": 4,
 "nbformat_minor": 4
}